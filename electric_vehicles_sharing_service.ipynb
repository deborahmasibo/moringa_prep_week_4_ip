{
 "cells": [
  {
   "cell_type": "markdown",
   "metadata": {},
   "source": [
    "# Autolib Electric Car Sharing Service"
   ]
  },
  {
   "cell_type": "markdown",
   "metadata": {},
   "source": [
    "## Importing The Required Libraries"
   ]
  },
  {
   "cell_type": "code",
   "execution_count": 262,
   "metadata": {},
   "outputs": [],
   "source": [
    "# Pandas library\n",
    "import pandas as pd\n",
    "\n",
    "# Numpy library\n",
    "import numpy as np"
   ]
  },
  {
   "cell_type": "markdown",
   "metadata": {},
   "source": [
    "## Loading The Dataset"
   ]
  },
  {
   "cell_type": "code",
   "execution_count": 263,
   "metadata": {},
   "outputs": [],
   "source": [
    "# url\n",
    "url = 'http://bit.ly/autolib_dataset'\n",
    "# Dataset\n",
    "ElectricCar = pd.read_csv(url, encoding= 'latin1')"
   ]
  },
  {
   "cell_type": "markdown",
   "metadata": {},
   "source": [
    "## Dataset Preview"
   ]
  },
  {
   "cell_type": "code",
   "execution_count": 264,
   "metadata": {},
   "outputs": [
    {
     "data": {
      "text/html": [
       "<div>\n",
       "<style scoped>\n",
       "    .dataframe tbody tr th:only-of-type {\n",
       "        vertical-align: middle;\n",
       "    }\n",
       "\n",
       "    .dataframe tbody tr th {\n",
       "        vertical-align: top;\n",
       "    }\n",
       "\n",
       "    .dataframe thead th {\n",
       "        text-align: right;\n",
       "    }\n",
       "</style>\n",
       "<table border=\"1\" class=\"dataframe\">\n",
       "  <thead>\n",
       "    <tr style=\"text-align: right;\">\n",
       "      <th></th>\n",
       "      <th>Address</th>\n",
       "      <th>Cars</th>\n",
       "      <th>Bluecar counter</th>\n",
       "      <th>Utilib counter</th>\n",
       "      <th>Utilib 1.4 counter</th>\n",
       "      <th>Charge Slots</th>\n",
       "      <th>Charging Status</th>\n",
       "      <th>City</th>\n",
       "      <th>Displayed comment</th>\n",
       "      <th>ID</th>\n",
       "      <th>...</th>\n",
       "      <th>Scheduled at</th>\n",
       "      <th>Slots</th>\n",
       "      <th>Station type</th>\n",
       "      <th>Status</th>\n",
       "      <th>Subscription status</th>\n",
       "      <th>year</th>\n",
       "      <th>month</th>\n",
       "      <th>day</th>\n",
       "      <th>hour</th>\n",
       "      <th>minute</th>\n",
       "    </tr>\n",
       "  </thead>\n",
       "  <tbody>\n",
       "    <tr>\n",
       "      <th>0</th>\n",
       "      <td>2 Avenue de Suffren</td>\n",
       "      <td>0</td>\n",
       "      <td>0</td>\n",
       "      <td>0</td>\n",
       "      <td>0</td>\n",
       "      <td>0</td>\n",
       "      <td>nonexistent</td>\n",
       "      <td>Paris</td>\n",
       "      <td>NaN</td>\n",
       "      <td>paris-suffren-2</td>\n",
       "      <td>...</td>\n",
       "      <td>NaN</td>\n",
       "      <td>2</td>\n",
       "      <td>station</td>\n",
       "      <td>ok</td>\n",
       "      <td>nonexistent</td>\n",
       "      <td>2018</td>\n",
       "      <td>4</td>\n",
       "      <td>8</td>\n",
       "      <td>11</td>\n",
       "      <td>43</td>\n",
       "    </tr>\n",
       "    <tr>\n",
       "      <th>1</th>\n",
       "      <td>145 Rue Raymond Losserand</td>\n",
       "      <td>6</td>\n",
       "      <td>6</td>\n",
       "      <td>0</td>\n",
       "      <td>0</td>\n",
       "      <td>0</td>\n",
       "      <td>operational</td>\n",
       "      <td>Paris</td>\n",
       "      <td>NaN</td>\n",
       "      <td>paris-raymondlosserand-145</td>\n",
       "      <td>...</td>\n",
       "      <td>NaN</td>\n",
       "      <td>0</td>\n",
       "      <td>station</td>\n",
       "      <td>ok</td>\n",
       "      <td>nonexistent</td>\n",
       "      <td>2018</td>\n",
       "      <td>4</td>\n",
       "      <td>6</td>\n",
       "      <td>7</td>\n",
       "      <td>24</td>\n",
       "    </tr>\n",
       "    <tr>\n",
       "      <th>2</th>\n",
       "      <td>2 Avenue John Fitzgerald Kennedy</td>\n",
       "      <td>3</td>\n",
       "      <td>3</td>\n",
       "      <td>0</td>\n",
       "      <td>2</td>\n",
       "      <td>0</td>\n",
       "      <td>operational</td>\n",
       "      <td>Le Bourget</td>\n",
       "      <td>NaN</td>\n",
       "      <td>lebourget-johnfitzgeraldkennedy-2</td>\n",
       "      <td>...</td>\n",
       "      <td>NaN</td>\n",
       "      <td>1</td>\n",
       "      <td>station</td>\n",
       "      <td>ok</td>\n",
       "      <td>nonexistent</td>\n",
       "      <td>2018</td>\n",
       "      <td>4</td>\n",
       "      <td>3</td>\n",
       "      <td>20</td>\n",
       "      <td>14</td>\n",
       "    </tr>\n",
       "    <tr>\n",
       "      <th>3</th>\n",
       "      <td>51 Rue EugÃÂ¨ne OudinÃÂ©</td>\n",
       "      <td>3</td>\n",
       "      <td>3</td>\n",
       "      <td>1</td>\n",
       "      <td>0</td>\n",
       "      <td>1</td>\n",
       "      <td>operational</td>\n",
       "      <td>Paris</td>\n",
       "      <td>NaN</td>\n",
       "      <td>paris-eugeneoudine-51</td>\n",
       "      <td>...</td>\n",
       "      <td>NaN</td>\n",
       "      <td>2</td>\n",
       "      <td>station</td>\n",
       "      <td>ok</td>\n",
       "      <td>nonexistent</td>\n",
       "      <td>2018</td>\n",
       "      <td>4</td>\n",
       "      <td>4</td>\n",
       "      <td>4</td>\n",
       "      <td>37</td>\n",
       "    </tr>\n",
       "    <tr>\n",
       "      <th>4</th>\n",
       "      <td>6 avenue de la Porte de Champerret</td>\n",
       "      <td>3</td>\n",
       "      <td>3</td>\n",
       "      <td>0</td>\n",
       "      <td>0</td>\n",
       "      <td>0</td>\n",
       "      <td>nonexistent</td>\n",
       "      <td>Paris</td>\n",
       "      <td>NaN</td>\n",
       "      <td>paris-portedechamperret-6</td>\n",
       "      <td>...</td>\n",
       "      <td>NaN</td>\n",
       "      <td>3</td>\n",
       "      <td>station</td>\n",
       "      <td>ok</td>\n",
       "      <td>nonexistent</td>\n",
       "      <td>2018</td>\n",
       "      <td>4</td>\n",
       "      <td>8</td>\n",
       "      <td>17</td>\n",
       "      <td>23</td>\n",
       "    </tr>\n",
       "    <tr>\n",
       "      <th>5</th>\n",
       "      <td>8 Boulevard Voltaire</td>\n",
       "      <td>0</td>\n",
       "      <td>0</td>\n",
       "      <td>0</td>\n",
       "      <td>0</td>\n",
       "      <td>0</td>\n",
       "      <td>nonexistent</td>\n",
       "      <td>Paris</td>\n",
       "      <td>NaN</td>\n",
       "      <td>paris-voltaire-8</td>\n",
       "      <td>...</td>\n",
       "      <td>NaN</td>\n",
       "      <td>4</td>\n",
       "      <td>station</td>\n",
       "      <td>ok</td>\n",
       "      <td>nonexistent</td>\n",
       "      <td>2018</td>\n",
       "      <td>4</td>\n",
       "      <td>6</td>\n",
       "      <td>7</td>\n",
       "      <td>2</td>\n",
       "    </tr>\n",
       "    <tr>\n",
       "      <th>6</th>\n",
       "      <td>37 rue Leblanc</td>\n",
       "      <td>0</td>\n",
       "      <td>0</td>\n",
       "      <td>0</td>\n",
       "      <td>0</td>\n",
       "      <td>0</td>\n",
       "      <td>nonexistent</td>\n",
       "      <td>Paris</td>\n",
       "      <td>Station en parking (niv -1), accÃÂ¨s 37 rue L...</td>\n",
       "      <td>paris-citroencevennes-parking</td>\n",
       "      <td>...</td>\n",
       "      <td>NaN</td>\n",
       "      <td>0</td>\n",
       "      <td>station</td>\n",
       "      <td>closed</td>\n",
       "      <td>nonexistent</td>\n",
       "      <td>2018</td>\n",
       "      <td>4</td>\n",
       "      <td>8</td>\n",
       "      <td>18</td>\n",
       "      <td>20</td>\n",
       "    </tr>\n",
       "    <tr>\n",
       "      <th>7</th>\n",
       "      <td>17 Rue des Luaps ProlongÃÂ©e</td>\n",
       "      <td>3</td>\n",
       "      <td>3</td>\n",
       "      <td>1</td>\n",
       "      <td>0</td>\n",
       "      <td>0</td>\n",
       "      <td>nonexistent</td>\n",
       "      <td>Nanterre</td>\n",
       "      <td>NaN</td>\n",
       "      <td>nanterre-luaps-17</td>\n",
       "      <td>...</td>\n",
       "      <td>NaN</td>\n",
       "      <td>0</td>\n",
       "      <td>station</td>\n",
       "      <td>ok</td>\n",
       "      <td>nonexistent</td>\n",
       "      <td>2018</td>\n",
       "      <td>4</td>\n",
       "      <td>4</td>\n",
       "      <td>22</td>\n",
       "      <td>13</td>\n",
       "    </tr>\n",
       "    <tr>\n",
       "      <th>8</th>\n",
       "      <td>34 avenue Jean Moulin</td>\n",
       "      <td>1</td>\n",
       "      <td>1</td>\n",
       "      <td>0</td>\n",
       "      <td>0</td>\n",
       "      <td>0</td>\n",
       "      <td>nonexistent</td>\n",
       "      <td>Paris</td>\n",
       "      <td>NaN</td>\n",
       "      <td>paris-jeanmoulin-34</td>\n",
       "      <td>...</td>\n",
       "      <td>NaN</td>\n",
       "      <td>4</td>\n",
       "      <td>station</td>\n",
       "      <td>ok</td>\n",
       "      <td>nonexistent</td>\n",
       "      <td>2018</td>\n",
       "      <td>4</td>\n",
       "      <td>2</td>\n",
       "      <td>22</td>\n",
       "      <td>58</td>\n",
       "    </tr>\n",
       "    <tr>\n",
       "      <th>9</th>\n",
       "      <td>41 boulevard de Rochechouart</td>\n",
       "      <td>6</td>\n",
       "      <td>6</td>\n",
       "      <td>0</td>\n",
       "      <td>0</td>\n",
       "      <td>0</td>\n",
       "      <td>nonexistent</td>\n",
       "      <td>Paris</td>\n",
       "      <td>NaN</td>\n",
       "      <td>paris-anvers-parking</td>\n",
       "      <td>...</td>\n",
       "      <td>NaN</td>\n",
       "      <td>0</td>\n",
       "      <td>station</td>\n",
       "      <td>ok</td>\n",
       "      <td>nonexistent</td>\n",
       "      <td>2018</td>\n",
       "      <td>4</td>\n",
       "      <td>4</td>\n",
       "      <td>15</td>\n",
       "      <td>2</td>\n",
       "    </tr>\n",
       "  </tbody>\n",
       "</table>\n",
       "<p>10 rows × 25 columns</p>\n",
       "</div>"
      ],
      "text/plain": [
       "                              Address  Cars  Bluecar counter  Utilib counter  \\\n",
       "0                 2 Avenue de Suffren     0                0               0   \n",
       "1           145 Rue Raymond Losserand     6                6               0   \n",
       "2    2 Avenue John Fitzgerald Kennedy     3                3               0   \n",
       "3          51 Rue EugÃÂ¨ne OudinÃÂ©     3                3               1   \n",
       "4  6 avenue de la Porte de Champerret     3                3               0   \n",
       "5                8 Boulevard Voltaire     0                0               0   \n",
       "6                      37 rue Leblanc     0                0               0   \n",
       "7       17 Rue des Luaps ProlongÃÂ©e     3                3               1   \n",
       "8               34 avenue Jean Moulin     1                1               0   \n",
       "9        41 boulevard de Rochechouart     6                6               0   \n",
       "\n",
       "   Utilib 1.4 counter  Charge Slots Charging Status        City  \\\n",
       "0                   0             0     nonexistent       Paris   \n",
       "1                   0             0     operational       Paris   \n",
       "2                   2             0     operational  Le Bourget   \n",
       "3                   0             1     operational       Paris   \n",
       "4                   0             0     nonexistent       Paris   \n",
       "5                   0             0     nonexistent       Paris   \n",
       "6                   0             0     nonexistent       Paris   \n",
       "7                   0             0     nonexistent    Nanterre   \n",
       "8                   0             0     nonexistent       Paris   \n",
       "9                   0             0     nonexistent       Paris   \n",
       "\n",
       "                                   Displayed comment  \\\n",
       "0                                                NaN   \n",
       "1                                                NaN   \n",
       "2                                                NaN   \n",
       "3                                                NaN   \n",
       "4                                                NaN   \n",
       "5                                                NaN   \n",
       "6  Station en parking (niv -1), accÃÂ¨s 37 rue L...   \n",
       "7                                                NaN   \n",
       "8                                                NaN   \n",
       "9                                                NaN   \n",
       "\n",
       "                                  ID  ... Scheduled at Slots  Station type  \\\n",
       "0                    paris-suffren-2  ...          NaN     2       station   \n",
       "1         paris-raymondlosserand-145  ...          NaN     0       station   \n",
       "2  lebourget-johnfitzgeraldkennedy-2  ...          NaN     1       station   \n",
       "3              paris-eugeneoudine-51  ...          NaN     2       station   \n",
       "4          paris-portedechamperret-6  ...          NaN     3       station   \n",
       "5                   paris-voltaire-8  ...          NaN     4       station   \n",
       "6      paris-citroencevennes-parking  ...          NaN     0       station   \n",
       "7                  nanterre-luaps-17  ...          NaN     0       station   \n",
       "8                paris-jeanmoulin-34  ...          NaN     4       station   \n",
       "9               paris-anvers-parking  ...          NaN     0       station   \n",
       "\n",
       "   Status Subscription status  year  month day hour minute  \n",
       "0      ok         nonexistent  2018      4   8   11     43  \n",
       "1      ok         nonexistent  2018      4   6    7     24  \n",
       "2      ok         nonexistent  2018      4   3   20     14  \n",
       "3      ok         nonexistent  2018      4   4    4     37  \n",
       "4      ok         nonexistent  2018      4   8   17     23  \n",
       "5      ok         nonexistent  2018      4   6    7      2  \n",
       "6  closed         nonexistent  2018      4   8   18     20  \n",
       "7      ok         nonexistent  2018      4   4   22     13  \n",
       "8      ok         nonexistent  2018      4   2   22     58  \n",
       "9      ok         nonexistent  2018      4   4   15      2  \n",
       "\n",
       "[10 rows x 25 columns]"
      ]
     },
     "execution_count": 264,
     "metadata": {},
     "output_type": "execute_result"
    }
   ],
   "source": [
    "ElectricCar.head(10)"
   ]
  },
  {
   "cell_type": "code",
   "execution_count": 265,
   "metadata": {},
   "outputs": [
    {
     "data": {
      "text/html": [
       "<div>\n",
       "<style scoped>\n",
       "    .dataframe tbody tr th:only-of-type {\n",
       "        vertical-align: middle;\n",
       "    }\n",
       "\n",
       "    .dataframe tbody tr th {\n",
       "        vertical-align: top;\n",
       "    }\n",
       "\n",
       "    .dataframe thead th {\n",
       "        text-align: right;\n",
       "    }\n",
       "</style>\n",
       "<table border=\"1\" class=\"dataframe\">\n",
       "  <thead>\n",
       "    <tr style=\"text-align: right;\">\n",
       "      <th></th>\n",
       "      <th>0</th>\n",
       "      <th>1</th>\n",
       "      <th>2</th>\n",
       "      <th>3</th>\n",
       "      <th>4</th>\n",
       "    </tr>\n",
       "  </thead>\n",
       "  <tbody>\n",
       "    <tr>\n",
       "      <th>Address</th>\n",
       "      <td>2 Avenue de Suffren</td>\n",
       "      <td>145 Rue Raymond Losserand</td>\n",
       "      <td>2 Avenue John Fitzgerald Kennedy</td>\n",
       "      <td>51 Rue EugÃÂ¨ne OudinÃÂ©</td>\n",
       "      <td>6 avenue de la Porte de Champerret</td>\n",
       "    </tr>\n",
       "    <tr>\n",
       "      <th>Cars</th>\n",
       "      <td>0</td>\n",
       "      <td>6</td>\n",
       "      <td>3</td>\n",
       "      <td>3</td>\n",
       "      <td>3</td>\n",
       "    </tr>\n",
       "    <tr>\n",
       "      <th>Bluecar counter</th>\n",
       "      <td>0</td>\n",
       "      <td>6</td>\n",
       "      <td>3</td>\n",
       "      <td>3</td>\n",
       "      <td>3</td>\n",
       "    </tr>\n",
       "    <tr>\n",
       "      <th>Utilib counter</th>\n",
       "      <td>0</td>\n",
       "      <td>0</td>\n",
       "      <td>0</td>\n",
       "      <td>1</td>\n",
       "      <td>0</td>\n",
       "    </tr>\n",
       "    <tr>\n",
       "      <th>Utilib 1.4 counter</th>\n",
       "      <td>0</td>\n",
       "      <td>0</td>\n",
       "      <td>2</td>\n",
       "      <td>0</td>\n",
       "      <td>0</td>\n",
       "    </tr>\n",
       "    <tr>\n",
       "      <th>Charge Slots</th>\n",
       "      <td>0</td>\n",
       "      <td>0</td>\n",
       "      <td>0</td>\n",
       "      <td>1</td>\n",
       "      <td>0</td>\n",
       "    </tr>\n",
       "    <tr>\n",
       "      <th>Charging Status</th>\n",
       "      <td>nonexistent</td>\n",
       "      <td>operational</td>\n",
       "      <td>operational</td>\n",
       "      <td>operational</td>\n",
       "      <td>nonexistent</td>\n",
       "    </tr>\n",
       "    <tr>\n",
       "      <th>City</th>\n",
       "      <td>Paris</td>\n",
       "      <td>Paris</td>\n",
       "      <td>Le Bourget</td>\n",
       "      <td>Paris</td>\n",
       "      <td>Paris</td>\n",
       "    </tr>\n",
       "    <tr>\n",
       "      <th>Displayed comment</th>\n",
       "      <td>NaN</td>\n",
       "      <td>NaN</td>\n",
       "      <td>NaN</td>\n",
       "      <td>NaN</td>\n",
       "      <td>NaN</td>\n",
       "    </tr>\n",
       "    <tr>\n",
       "      <th>ID</th>\n",
       "      <td>paris-suffren-2</td>\n",
       "      <td>paris-raymondlosserand-145</td>\n",
       "      <td>lebourget-johnfitzgeraldkennedy-2</td>\n",
       "      <td>paris-eugeneoudine-51</td>\n",
       "      <td>paris-portedechamperret-6</td>\n",
       "    </tr>\n",
       "    <tr>\n",
       "      <th>Kind</th>\n",
       "      <td>STATION</td>\n",
       "      <td>STATION</td>\n",
       "      <td>STATION</td>\n",
       "      <td>STATION</td>\n",
       "      <td>PARKING</td>\n",
       "    </tr>\n",
       "    <tr>\n",
       "      <th>Geo point</th>\n",
       "      <td>48.857, 2.2917</td>\n",
       "      <td>48.83126, 2.313088</td>\n",
       "      <td>48.938103, 2.4286035</td>\n",
       "      <td>48.8250327, 2.3725162</td>\n",
       "      <td>48.8862632, 2.2874511</td>\n",
       "    </tr>\n",
       "    <tr>\n",
       "      <th>Postal code</th>\n",
       "      <td>75015</td>\n",
       "      <td>75014</td>\n",
       "      <td>93350</td>\n",
       "      <td>75013</td>\n",
       "      <td>75017</td>\n",
       "    </tr>\n",
       "    <tr>\n",
       "      <th>Public name</th>\n",
       "      <td>Paris/Suffren/2</td>\n",
       "      <td>Paris/Raymond Losserand/145</td>\n",
       "      <td>Le Bourget/John Fitzgerald Kennedy/2</td>\n",
       "      <td>Paris/EugÃÂ¨ne OudinÃÂ©/51</td>\n",
       "      <td>Paris/Porte de Champerret/6</td>\n",
       "    </tr>\n",
       "    <tr>\n",
       "      <th>Rental status</th>\n",
       "      <td>operational</td>\n",
       "      <td>operational</td>\n",
       "      <td>operational</td>\n",
       "      <td>operational</td>\n",
       "      <td>operational</td>\n",
       "    </tr>\n",
       "    <tr>\n",
       "      <th>Scheduled at</th>\n",
       "      <td>NaN</td>\n",
       "      <td>NaN</td>\n",
       "      <td>NaN</td>\n",
       "      <td>NaN</td>\n",
       "      <td>NaN</td>\n",
       "    </tr>\n",
       "    <tr>\n",
       "      <th>Slots</th>\n",
       "      <td>2</td>\n",
       "      <td>0</td>\n",
       "      <td>1</td>\n",
       "      <td>2</td>\n",
       "      <td>3</td>\n",
       "    </tr>\n",
       "    <tr>\n",
       "      <th>Station type</th>\n",
       "      <td>station</td>\n",
       "      <td>station</td>\n",
       "      <td>station</td>\n",
       "      <td>station</td>\n",
       "      <td>station</td>\n",
       "    </tr>\n",
       "    <tr>\n",
       "      <th>Status</th>\n",
       "      <td>ok</td>\n",
       "      <td>ok</td>\n",
       "      <td>ok</td>\n",
       "      <td>ok</td>\n",
       "      <td>ok</td>\n",
       "    </tr>\n",
       "    <tr>\n",
       "      <th>Subscription status</th>\n",
       "      <td>nonexistent</td>\n",
       "      <td>nonexistent</td>\n",
       "      <td>nonexistent</td>\n",
       "      <td>nonexistent</td>\n",
       "      <td>nonexistent</td>\n",
       "    </tr>\n",
       "    <tr>\n",
       "      <th>year</th>\n",
       "      <td>2018</td>\n",
       "      <td>2018</td>\n",
       "      <td>2018</td>\n",
       "      <td>2018</td>\n",
       "      <td>2018</td>\n",
       "    </tr>\n",
       "    <tr>\n",
       "      <th>month</th>\n",
       "      <td>4</td>\n",
       "      <td>4</td>\n",
       "      <td>4</td>\n",
       "      <td>4</td>\n",
       "      <td>4</td>\n",
       "    </tr>\n",
       "    <tr>\n",
       "      <th>day</th>\n",
       "      <td>8</td>\n",
       "      <td>6</td>\n",
       "      <td>3</td>\n",
       "      <td>4</td>\n",
       "      <td>8</td>\n",
       "    </tr>\n",
       "    <tr>\n",
       "      <th>hour</th>\n",
       "      <td>11</td>\n",
       "      <td>7</td>\n",
       "      <td>20</td>\n",
       "      <td>4</td>\n",
       "      <td>17</td>\n",
       "    </tr>\n",
       "    <tr>\n",
       "      <th>minute</th>\n",
       "      <td>43</td>\n",
       "      <td>24</td>\n",
       "      <td>14</td>\n",
       "      <td>37</td>\n",
       "      <td>23</td>\n",
       "    </tr>\n",
       "  </tbody>\n",
       "</table>\n",
       "</div>"
      ],
      "text/plain": [
       "                                       0                            1  \\\n",
       "Address              2 Avenue de Suffren    145 Rue Raymond Losserand   \n",
       "Cars                                   0                            6   \n",
       "Bluecar counter                        0                            6   \n",
       "Utilib counter                         0                            0   \n",
       "Utilib 1.4 counter                     0                            0   \n",
       "Charge Slots                           0                            0   \n",
       "Charging Status              nonexistent                  operational   \n",
       "City                               Paris                        Paris   \n",
       "Displayed comment                    NaN                          NaN   \n",
       "ID                       paris-suffren-2   paris-raymondlosserand-145   \n",
       "Kind                             STATION                      STATION   \n",
       "Geo point                 48.857, 2.2917           48.83126, 2.313088   \n",
       "Postal code                        75015                        75014   \n",
       "Public name              Paris/Suffren/2  Paris/Raymond Losserand/145   \n",
       "Rental status                operational                  operational   \n",
       "Scheduled at                         NaN                          NaN   \n",
       "Slots                                  2                            0   \n",
       "Station type                     station                      station   \n",
       "Status                                ok                           ok   \n",
       "Subscription status          nonexistent                  nonexistent   \n",
       "year                                2018                         2018   \n",
       "month                                  4                            4   \n",
       "day                                    8                            6   \n",
       "hour                                  11                            7   \n",
       "minute                                43                           24   \n",
       "\n",
       "                                                        2  \\\n",
       "Address                  2 Avenue John Fitzgerald Kennedy   \n",
       "Cars                                                    3   \n",
       "Bluecar counter                                         3   \n",
       "Utilib counter                                          0   \n",
       "Utilib 1.4 counter                                      2   \n",
       "Charge Slots                                            0   \n",
       "Charging Status                               operational   \n",
       "City                                           Le Bourget   \n",
       "Displayed comment                                     NaN   \n",
       "ID                      lebourget-johnfitzgeraldkennedy-2   \n",
       "Kind                                              STATION   \n",
       "Geo point                            48.938103, 2.4286035   \n",
       "Postal code                                         93350   \n",
       "Public name          Le Bourget/John Fitzgerald Kennedy/2   \n",
       "Rental status                                 operational   \n",
       "Scheduled at                                          NaN   \n",
       "Slots                                                   1   \n",
       "Station type                                      station   \n",
       "Status                                                 ok   \n",
       "Subscription status                           nonexistent   \n",
       "year                                                 2018   \n",
       "month                                                   4   \n",
       "day                                                     3   \n",
       "hour                                                   20   \n",
       "minute                                                 14   \n",
       "\n",
       "                                                3  \\\n",
       "Address                51 Rue EugÃÂ¨ne OudinÃÂ©   \n",
       "Cars                                            3   \n",
       "Bluecar counter                                 3   \n",
       "Utilib counter                                  1   \n",
       "Utilib 1.4 counter                              0   \n",
       "Charge Slots                                    1   \n",
       "Charging Status                       operational   \n",
       "City                                        Paris   \n",
       "Displayed comment                             NaN   \n",
       "ID                          paris-eugeneoudine-51   \n",
       "Kind                                      STATION   \n",
       "Geo point                   48.8250327, 2.3725162   \n",
       "Postal code                                 75013   \n",
       "Public name          Paris/EugÃÂ¨ne OudinÃÂ©/51   \n",
       "Rental status                         operational   \n",
       "Scheduled at                                  NaN   \n",
       "Slots                                           2   \n",
       "Station type                              station   \n",
       "Status                                         ok   \n",
       "Subscription status                   nonexistent   \n",
       "year                                         2018   \n",
       "month                                           4   \n",
       "day                                             4   \n",
       "hour                                            4   \n",
       "minute                                         37   \n",
       "\n",
       "                                                      4  \n",
       "Address              6 avenue de la Porte de Champerret  \n",
       "Cars                                                  3  \n",
       "Bluecar counter                                       3  \n",
       "Utilib counter                                        0  \n",
       "Utilib 1.4 counter                                    0  \n",
       "Charge Slots                                          0  \n",
       "Charging Status                             nonexistent  \n",
       "City                                              Paris  \n",
       "Displayed comment                                   NaN  \n",
       "ID                            paris-portedechamperret-6  \n",
       "Kind                                            PARKING  \n",
       "Geo point                         48.8862632, 2.2874511  \n",
       "Postal code                                       75017  \n",
       "Public name                 Paris/Porte de Champerret/6  \n",
       "Rental status                               operational  \n",
       "Scheduled at                                        NaN  \n",
       "Slots                                                 3  \n",
       "Station type                                    station  \n",
       "Status                                               ok  \n",
       "Subscription status                         nonexistent  \n",
       "year                                               2018  \n",
       "month                                                 4  \n",
       "day                                                   8  \n",
       "hour                                                 17  \n",
       "minute                                               23  "
      ]
     },
     "execution_count": 265,
     "metadata": {},
     "output_type": "execute_result"
    }
   ],
   "source": [
    "# Viewing all columns\n",
    "ElectricCar.head(5).transpose()"
   ]
  },
  {
   "cell_type": "markdown",
   "metadata": {},
   "source": [
    "## Data Understanding"
   ]
  },
  {
   "cell_type": "markdown",
   "metadata": {},
   "source": [
    "### Dataframe Information"
   ]
  },
  {
   "cell_type": "code",
   "execution_count": 266,
   "metadata": {},
   "outputs": [
    {
     "name": "stdout",
     "output_type": "stream",
     "text": [
      "<class 'pandas.core.frame.DataFrame'>\n",
      "RangeIndex: 5000 entries, 0 to 4999\n",
      "Data columns (total 25 columns):\n",
      " #   Column               Non-Null Count  Dtype \n",
      "---  ------               --------------  ----- \n",
      " 0   Address              5000 non-null   object\n",
      " 1   Cars                 5000 non-null   int64 \n",
      " 2   Bluecar counter      5000 non-null   int64 \n",
      " 3   Utilib counter       5000 non-null   int64 \n",
      " 4   Utilib 1.4 counter   5000 non-null   int64 \n",
      " 5   Charge Slots         5000 non-null   int64 \n",
      " 6   Charging Status      5000 non-null   object\n",
      " 7   City                 5000 non-null   object\n",
      " 8   Displayed comment    111 non-null    object\n",
      " 9   ID                   5000 non-null   object\n",
      " 10  Kind                 5000 non-null   object\n",
      " 11  Geo point            5000 non-null   object\n",
      " 12  Postal code          5000 non-null   int64 \n",
      " 13  Public name          5000 non-null   object\n",
      " 14  Rental status        5000 non-null   object\n",
      " 15  Scheduled at         47 non-null     object\n",
      " 16  Slots                5000 non-null   int64 \n",
      " 17  Station type         5000 non-null   object\n",
      " 18  Status               5000 non-null   object\n",
      " 19  Subscription status  5000 non-null   object\n",
      " 20  year                 5000 non-null   int64 \n",
      " 21  month                5000 non-null   int64 \n",
      " 22  day                  5000 non-null   int64 \n",
      " 23  hour                 5000 non-null   int64 \n",
      " 24  minute               5000 non-null   int64 \n",
      "dtypes: int64(12), object(13)\n",
      "memory usage: 976.7+ KB\n"
     ]
    }
   ],
   "source": [
    "ElectricCar.info()"
   ]
  },
  {
   "cell_type": "code",
   "execution_count": 267,
   "metadata": {},
   "outputs": [
    {
     "name": "stdout",
     "output_type": "stream",
     "text": [
      "<class 'pandas.core.frame.DataFrame'>\n",
      "RangeIndex: 5000 entries, 0 to 4999\n",
      "Data columns (total 3 columns):\n",
      " #   Column               Non-Null Count  Dtype \n",
      "---  ------               --------------  ----- \n",
      " 0   Subscription status  5000 non-null   object\n",
      " 1   year                 5000 non-null   int64 \n",
      " 2   month                5000 non-null   int64 \n",
      "dtypes: int64(2), object(1)\n",
      "memory usage: 117.3+ KB\n"
     ]
    }
   ],
   "source": [
    "# Viewing hidden column information\n",
    "ElectricCar.iloc[:, range(19,22)].info()"
   ]
  },
  {
   "cell_type": "markdown",
   "metadata": {},
   "source": [
    "## Data Preperation"
   ]
  },
  {
   "cell_type": "markdown",
   "metadata": {},
   "source": [
    "### Validity"
   ]
  },
  {
   "cell_type": "markdown",
   "metadata": {},
   "source": [
    "#### 1. Removal of unimportant columns"
   ]
  },
  {
   "cell_type": "code",
   "execution_count": 268,
   "metadata": {},
   "outputs": [],
   "source": [
    "# The Cars column is a duplicate of the Bluecar counter, therefore it is not required.\n",
    "# The Geo point column is also unnecessary as the Address, Public name and the ID column cater to location requirements.\n",
    "# The Address and Public name information column will aslo be dropped as they contain similar information to the ID column.\n",
    "# They also have foreign characters which will be cumbersome to correct.\n",
    "\n",
    "# List to be used for dropping the specified columns.\n",
    "droplist = ['Cars', 'Geo point', 'Address', 'Public name']"
   ]
  },
  {
   "cell_type": "code",
   "execution_count": 269,
   "metadata": {},
   "outputs": [
    {
     "data": {
      "text/plain": [
       "array([nan, 'Station en parking (niv -1), accÃ\\x83Â¨s 37 rue Leblanc',\n",
       "       'Station en parking (niv 0), accÃ\\x83Â¨s 26 villa Croix Nivert',\n",
       "       'Station en parking (niv -2), accÃ\\x83Â¨s 4 av. Foch',\n",
       "       \"Borne d'abonnement en sous-sol (niv -1), accÃ\\x83Â¨s 4 rue Lobau\",\n",
       "       'Station en parking (niv -1), accÃ\\x83Â¨s rue Wilson',\n",
       "       'Station en parking (niv -1), accÃ\\x83Â¨s Place Georges Pompidou',\n",
       "       'Station en parking (niv -3), accÃ\\x83Â¨s 32 rue dÃ¢Â\\x80Â\\x99Alsace',\n",
       "       'Station en parking (niv -2), accÃ\\x83Â¨s 2 avenue Gabriel',\n",
       "       'Station en parking (niv -1), accÃ\\x83Â¨s av. de Versailles',\n",
       "       'Station en parking (niv -1), accÃ\\x83Â¨s rue Abel Gance',\n",
       "       'Station en parking (niv -1), accÃ\\x83Â¨s 4 av. des Ternes',\n",
       "       'Station en parking (niv -1), Station B (sur la droite)',\n",
       "       'Station en parking',\n",
       "       'Station en parking (niv -2), accÃ\\x83Â¨s 125 bvd du Montparnasse',\n",
       "       'Station en parking (niv -1), Station A (sur la gauche)',\n",
       "       'Station en parking (niv -1), accÃ\\x83Â¨s 8 rue Louise Michel',\n",
       "       'Station en parking (niv -1), accÃ\\x83Â¨s 26 bvd Gouvion Saint-Cyr',\n",
       "       'Station en parking (niv -1), accÃ\\x83Â¨s rue Marjolin',\n",
       "       'Station en parking (niv -1), accÃ\\x83Â¨s 141 rue Lecourbe',\n",
       "       'Station en parking (niv -1), accÃ\\x83Â¨s 37 rue Wilson',\n",
       "       'Station en parking (niv -2), accÃ\\x83Â¨s 155 rue de Rennes',\n",
       "       'Station en parking (niv -1), accÃ\\x83Â¨s av. gÃ\\x83Â©n Sarrail',\n",
       "       'Station en parking (niv -1), accÃ\\x83Â¨s 33 rue Ernest Cognacq',\n",
       "       'Station en parking (niv -1), accÃ\\x83Â¨s 80 rue Wilson',\n",
       "       \"Station en parking (niv -1), accÃ\\x83Â¨s 29 quai d'Austerlitz\"],\n",
       "      dtype=object)"
      ]
     },
     "execution_count": 269,
     "metadata": {},
     "output_type": "execute_result"
    }
   ],
   "source": [
    "# 2. Checking the validity of the 'Displayed comment' column.\n",
    "\n",
    "ElectricCar['Displayed comment'].unique()"
   ]
  },
  {
   "cell_type": "code",
   "execution_count": 270,
   "metadata": {},
   "outputs": [],
   "source": [
    "# The column does not provide a significant contribution to the study.\n",
    "\n",
    "droplist.append('Displayed comment',)"
   ]
  },
  {
   "cell_type": "code",
   "execution_count": 271,
   "metadata": {},
   "outputs": [],
   "source": [
    "# 3. The study is limited to understanding car usage over time, therefore, the column can be removed.\n",
    "# It also has limited information, compared to the amount of data available.\n",
    "\n",
    "droplist.append('Scheduled at')"
   ]
  },
  {
   "cell_type": "code",
   "execution_count": 272,
   "metadata": {},
   "outputs": [],
   "source": [
    "# Dropping all specified columns\n",
    "\n",
    "ElectricCar.drop(droplist, axis = 1, inplace = True)"
   ]
  },
  {
   "cell_type": "code",
   "execution_count": 273,
   "metadata": {},
   "outputs": [
    {
     "name": "stdout",
     "output_type": "stream",
     "text": [
      "<class 'pandas.core.frame.DataFrame'>\n",
      "RangeIndex: 5000 entries, 0 to 4999\n",
      "Data columns (total 19 columns):\n",
      " #   Column               Non-Null Count  Dtype \n",
      "---  ------               --------------  ----- \n",
      " 0   Bluecar counter      5000 non-null   int64 \n",
      " 1   Utilib counter       5000 non-null   int64 \n",
      " 2   Utilib 1.4 counter   5000 non-null   int64 \n",
      " 3   Charge Slots         5000 non-null   int64 \n",
      " 4   Charging Status      5000 non-null   object\n",
      " 5   City                 5000 non-null   object\n",
      " 6   ID                   5000 non-null   object\n",
      " 7   Kind                 5000 non-null   object\n",
      " 8   Postal code          5000 non-null   int64 \n",
      " 9   Rental status        5000 non-null   object\n",
      " 10  Slots                5000 non-null   int64 \n",
      " 11  Station type         5000 non-null   object\n",
      " 12  Status               5000 non-null   object\n",
      " 13  Subscription status  5000 non-null   object\n",
      " 14  year                 5000 non-null   int64 \n",
      " 15  month                5000 non-null   int64 \n",
      " 16  day                  5000 non-null   int64 \n",
      " 17  hour                 5000 non-null   int64 \n",
      " 18  minute               5000 non-null   int64 \n",
      "dtypes: int64(11), object(8)\n",
      "memory usage: 742.3+ KB\n"
     ]
    }
   ],
   "source": [
    "# Checking dataframe information after changes have been made.\n",
    "ElectricCar.info()"
   ]
  },
  {
   "cell_type": "markdown",
   "metadata": {},
   "source": [
    "#### 2. Accuracy"
   ]
  },
  {
   "cell_type": "markdown",
   "metadata": {},
   "source": [
    "##### a) Charge Slots and Charging Status"
   ]
  },
  {
   "cell_type": "code",
   "execution_count": 274,
   "metadata": {},
   "outputs": [
    {
     "data": {
      "text/plain": [
       "True"
      ]
     },
     "execution_count": 274,
     "metadata": {},
     "output_type": "execute_result"
    }
   ],
   "source": [
    "# Charge slots can only be greater than 0 if the Charging status is operational\n",
    "# 1. Checking the condition is met\n",
    "\n",
    "wrong_number_slots = ElectricCar[(ElectricCar['Charging Status'] == 'operational') & (ElectricCar['Charge Slots'] == 0)]\n",
    "wrong_number_slots.any().any()\n"
   ]
  },
  {
   "cell_type": "code",
   "execution_count": 275,
   "metadata": {},
   "outputs": [
    {
     "data": {
      "text/plain": [
       "0    1\n",
       "dtype: int64"
      ]
     },
     "execution_count": 275,
     "metadata": {},
     "output_type": "execute_result"
    }
   ],
   "source": [
    "# Checking for value to replace the contradictory value.\n",
    "ElectricCar[(ElectricCar['Charging Status'] == 'operational') & (ElectricCar['Charge Slots'] != 0)]['Charge Slots'].mode()"
   ]
  },
  {
   "cell_type": "code",
   "execution_count": 276,
   "metadata": {},
   "outputs": [
    {
     "data": {
      "text/plain": [
       "True"
      ]
     },
     "execution_count": 276,
     "metadata": {},
     "output_type": "execute_result"
    }
   ],
   "source": [
    "# Implementing the required changes\n",
    "ElectricCar.loc[(ElectricCar['Charging Status'] == 'operational') & (ElectricCar['Charge Slots'] == 0),'Charge Slots'] = 1\n",
    "# Ensuring that changes have been made\n",
    "wrong_number_slots.any().any()"
   ]
  },
  {
   "cell_type": "code",
   "execution_count": 277,
   "metadata": {},
   "outputs": [
    {
     "data": {
      "text/plain": [
       "False"
      ]
     },
     "execution_count": 277,
     "metadata": {},
     "output_type": "execute_result"
    }
   ],
   "source": [
    "# 2. Ensuring that the charging slots are only >1 when the status is operational.\n",
    "\n",
    "wrong_slots = ElectricCar[(ElectricCar['Charging Status'] != 'operational') & (ElectricCar['Charge Slots'] != 0)]\n",
    "wrong_slots.any().any()"
   ]
  },
  {
   "cell_type": "code",
   "execution_count": 278,
   "metadata": {},
   "outputs": [
    {
     "data": {
      "text/plain": [
       "False"
      ]
     },
     "execution_count": 278,
     "metadata": {},
     "output_type": "execute_result"
    }
   ],
   "source": [
    "# 3. Ensuring that the slots is zero for a charging status of future.\n",
    "\n",
    "future_slots = ElectricCar[(ElectricCar['Charging Status'] == 'future') & (ElectricCar['Charge Slots'] != 0) & (ElectricCar['Slots'] != 0)]\n",
    "future_slots.any().any()"
   ]
  },
  {
   "cell_type": "code",
   "execution_count": 279,
   "metadata": {},
   "outputs": [
    {
     "data": {
      "text/plain": [
       "Index(['Bluecar counter', 'Utilib counter', 'Utilib 1.4 counter',\n",
       "       'Charge Slots', 'Charging Status', 'City', 'ID', 'Kind', 'Postal code',\n",
       "       'Rental status', 'Slots', 'Station type', 'Status',\n",
       "       'Subscription status', 'year', 'month', 'day', 'hour', 'minute'],\n",
       "      dtype='object')"
      ]
     },
     "execution_count": 279,
     "metadata": {},
     "output_type": "execute_result"
    }
   ],
   "source": [
    "ElectricCar.columns"
   ]
  },
  {
   "cell_type": "code",
   "execution_count": 280,
   "metadata": {},
   "outputs": [
    {
     "data": {
      "text/plain": [
       "False"
      ]
     },
     "execution_count": 280,
     "metadata": {},
     "output_type": "execute_result"
    }
   ],
   "source": [
    "# 4. Ensuring that the cars are zero for a charging status of future.\n",
    "\n",
    "future_cars = ElectricCar[(ElectricCar['Charging Status'] == 'future') & (ElectricCar['Bluecar counter'] != 0) &\n",
    "(ElectricCar['Utilib counter'] != 0) & (ElectricCar['Utilib 1.4 counter'] != 0)]\n",
    "future_cars.any().any()"
   ]
  },
  {
   "cell_type": "markdown",
   "metadata": {},
   "source": [
    "The conditions have been met."
   ]
  },
  {
   "cell_type": "markdown",
   "metadata": {},
   "source": [
    "##### c) Kind Column"
   ]
  },
  {
   "cell_type": "code",
   "execution_count": 281,
   "metadata": {},
   "outputs": [
    {
     "data": {
      "text/plain": [
       "False"
      ]
     },
     "execution_count": 281,
     "metadata": {},
     "output_type": "execute_result"
    }
   ],
   "source": [
    "# 1. Ensuring that the 'CENTER' value has no resources\n",
    "\n",
    "center = ElectricCar[(ElectricCar['Kind'] == 'CENTER') & (ElectricCar['Bluecar counter'] != 0) &\n",
    "(ElectricCar['Utilib counter'] != 0) & (ElectricCar['Utilib 1.4 counter'] != 0) & ElectricCar['Charge Slots'] != 0 & (ElectricCar['Slots'] != 0)]\n",
    "center.any().any()"
   ]
  },
  {
   "cell_type": "code",
   "execution_count": 282,
   "metadata": {},
   "outputs": [
    {
     "data": {
      "text/plain": [
       "False"
      ]
     },
     "execution_count": 282,
     "metadata": {},
     "output_type": "execute_result"
    }
   ],
   "source": [
    "# 2. Ensuring that the 'PARKING' value has no charging slots.\n",
    "\n",
    "parking = ElectricCar[(ElectricCar['Kind'] == 'PARKING') & ElectricCar['Charge Slots'] != 0]\n",
    "parking.any().any()"
   ]
  },
  {
   "cell_type": "markdown",
   "metadata": {},
   "source": [
    "##### d) Rental Status"
   ]
  },
  {
   "cell_type": "code",
   "execution_count": 283,
   "metadata": {},
   "outputs": [
    {
     "data": {
      "text/plain": [
       "False"
      ]
     },
     "execution_count": 283,
     "metadata": {},
     "output_type": "execute_result"
    }
   ],
   "source": [
    "# Ensuring that the 'broken' status only has slot resources available.\n",
    "\n",
    "broken= ElectricCar[(ElectricCar['Kind'] == 'broken')  & (ElectricCar['Bluecar counter'] != 0) &\n",
    "(ElectricCar['Utilib counter'] != 0) & (ElectricCar['Utilib 1.4 counter'] != 0) & (ElectricCar['Charge Slots'] != 0)]\n",
    "broken.any().any()"
   ]
  },
  {
   "cell_type": "markdown",
   "metadata": {},
   "source": [
    "##### e) Status"
   ]
  },
  {
   "cell_type": "code",
   "execution_count": 284,
   "metadata": {},
   "outputs": [
    {
     "data": {
      "text/plain": [
       "False"
      ]
     },
     "execution_count": 284,
     "metadata": {},
     "output_type": "execute_result"
    }
   ],
   "source": [
    "# Ensuring that no resources are available for the \"sceduled\" status.\n",
    "\n",
    "status = ElectricCar[(ElectricCar['Status'] == 'scheduled')  & (ElectricCar['Bluecar counter'] != 0) &\n",
    "(ElectricCar['Utilib counter'] != 0) & (ElectricCar['Utilib 1.4 counter'] != 0) & (ElectricCar['Charge Slots'] != 0) & (ElectricCar['Slots'] != 0)]\n",
    "status.any().any()"
   ]
  },
  {
   "cell_type": "markdown",
   "metadata": {},
   "source": [
    "#### 3. Completeness"
   ]
  },
  {
   "cell_type": "code",
   "execution_count": 285,
   "metadata": {},
   "outputs": [
    {
     "data": {
      "text/plain": [
       "0"
      ]
     },
     "execution_count": 285,
     "metadata": {},
     "output_type": "execute_result"
    }
   ],
   "source": [
    "# Checking for missing values\n",
    "ElectricCar.isnull().sum().sum()"
   ]
  },
  {
   "cell_type": "markdown",
   "metadata": {},
   "source": [
    "There are no missing values."
   ]
  },
  {
   "cell_type": "markdown",
   "metadata": {},
   "source": [
    "#### 4. Consistency"
   ]
  },
  {
   "cell_type": "code",
   "execution_count": 286,
   "metadata": {},
   "outputs": [
    {
     "data": {
      "text/plain": [
       "0"
      ]
     },
     "execution_count": 286,
     "metadata": {},
     "output_type": "execute_result"
    }
   ],
   "source": [
    "# Checking for duplicates\n",
    "ElectricCar.duplicated().sum()"
   ]
  },
  {
   "cell_type": "markdown",
   "metadata": {},
   "source": [
    "There are no duplicates."
   ]
  },
  {
   "cell_type": "markdown",
   "metadata": {},
   "source": [
    "#### 5. Uniformity"
   ]
  },
  {
   "cell_type": "markdown",
   "metadata": {},
   "source": [
    "##### a) Renaming Columns"
   ]
  },
  {
   "cell_type": "code",
   "execution_count": 287,
   "metadata": {},
   "outputs": [],
   "source": [
    "# Changing the case of the columns to sentence case, as specified in the provided docummentaion.\n",
    "# Function used to capitalize the column names\n",
    "def SentenceCase(table):\n",
    "    new_columns = []\n",
    "    columns = list(table.columns.values)\n",
    "    for x in columns:\n",
    "        new_columns.append(x.title())\n",
    "    table.columns = new_columns\n",
    "\n",
    "# Function call\n",
    "SentenceCase(ElectricCar)\n"
   ]
  },
  {
   "cell_type": "code",
   "execution_count": 288,
   "metadata": {},
   "outputs": [
    {
     "data": {
      "text/plain": [
       "Index(['Bluecar Counter', 'Utilib Counter', 'Utilib 1.4 Counter',\n",
       "       'Charge Slots', 'Charging Status', 'City', 'Id', 'Kind', 'Postal Code',\n",
       "       'Rental Status', 'Slots', 'Station Type', 'Status',\n",
       "       'Subscription Status', 'Year', 'Month', 'Day', 'Hour', 'Minute'],\n",
       "      dtype='object')"
      ]
     },
     "execution_count": 288,
     "metadata": {},
     "output_type": "execute_result"
    }
   ],
   "source": [
    "# Check changes\n",
    "ElectricCar.columns"
   ]
  },
  {
   "cell_type": "markdown",
   "metadata": {},
   "source": [
    "##### b) Data Type Conversion"
   ]
  },
  {
   "cell_type": "code",
   "execution_count": 289,
   "metadata": {},
   "outputs": [
    {
     "name": "stdout",
     "output_type": "stream",
     "text": [
      "<class 'pandas.core.frame.DataFrame'>\n",
      "RangeIndex: 5000 entries, 0 to 4999\n",
      "Data columns (total 19 columns):\n",
      " #   Column               Non-Null Count  Dtype \n",
      "---  ------               --------------  ----- \n",
      " 0   Bluecar Counter      5000 non-null   int64 \n",
      " 1   Utilib Counter       5000 non-null   int64 \n",
      " 2   Utilib 1.4 Counter   5000 non-null   int64 \n",
      " 3   Charge Slots         5000 non-null   int64 \n",
      " 4   Charging Status      5000 non-null   object\n",
      " 5   City                 5000 non-null   object\n",
      " 6   Id                   5000 non-null   object\n",
      " 7   Kind                 5000 non-null   object\n",
      " 8   Postal Code          5000 non-null   int64 \n",
      " 9   Rental Status        5000 non-null   object\n",
      " 10  Slots                5000 non-null   int64 \n",
      " 11  Station Type         5000 non-null   object\n",
      " 12  Status               5000 non-null   object\n",
      " 13  Subscription Status  5000 non-null   object\n",
      " 14  Year                 5000 non-null   int64 \n",
      " 15  Month                5000 non-null   int64 \n",
      " 16  Day                  5000 non-null   int64 \n",
      " 17  Hour                 5000 non-null   int64 \n",
      " 18  Minute               5000 non-null   int64 \n",
      "dtypes: int64(11), object(8)\n",
      "memory usage: 742.3+ KB\n"
     ]
    }
   ],
   "source": [
    "# Checking assigned data types\n",
    "ElectricCar.info()"
   ]
  },
  {
   "cell_type": "markdown",
   "metadata": {},
   "source": [
    "No columns require type conversion."
   ]
  },
  {
   "cell_type": "markdown",
   "metadata": {},
   "source": [
    "#### 6. Outliers"
   ]
  },
  {
   "cell_type": "markdown",
   "metadata": {},
   "source": [
    "The numerical columns are restricted to a specific range of values, therefore, there was no need to remove any outliers."
   ]
  },
  {
   "cell_type": "markdown",
   "metadata": {},
   "source": [
    "## Analysis"
   ]
  },
  {
   "cell_type": "markdown",
   "metadata": {},
   "source": [
    "**The analysis has been limited to the city of Paris, in the month of April 2018.**"
   ]
  },
  {
   "cell_type": "markdown",
   "metadata": {},
   "source": [
    "### 1. Most popular hour of the day for picking up a shared electric car in the city of Paris over the month of April 2018."
   ]
  },
  {
   "cell_type": "code",
   "execution_count": 290,
   "metadata": {},
   "outputs": [],
   "source": [
    "# Function used to obtain the most popular picking up hour.\n",
    "# The hours were ordered to obtain the change in the number of cars at a a station with time.\n",
    "\n",
    "def PopularInApril(column):\n",
    "    # Restricting analysis to Paris, in the month of April 2018.\n",
    "    popular_hour = ElectricCar[(ElectricCar['City'] == 'Paris') & (ElectricCar['Month'] == 4) &\n",
    "    # Grouping by the hour in descending order, to obtain the total number of Bluecars present at stations, per hour.\n",
    "    (ElectricCar['Year'] == 2018)][['Hour', column]].groupby('Hour').sum().sort_values('Hour')\n",
    "    # Obtaining the difference between the number of cars at stations for seccessive hours.\n",
    "    popular_hour['Difference'] = popular_hour[column].diff()\n",
    "    # The first difference will be null, therefore it will be filled with a zero.\n",
    "    popular_hour.fillna(0, inplace= True)\n",
    "    # The minimum difference corresponds to the highest number of car pick-ups.\n",
    "    return popular_hour[popular_hour['Difference'] == popular_hour['Difference'].min()]"
   ]
  },
  {
   "cell_type": "markdown",
   "metadata": {},
   "source": [
    "##### Bluecar"
   ]
  },
  {
   "cell_type": "code",
   "execution_count": 291,
   "metadata": {},
   "outputs": [
    {
     "data": {
      "text/plain": [
       "22"
      ]
     },
     "execution_count": 291,
     "metadata": {},
     "output_type": "execute_result"
    }
   ],
   "source": [
    "# Popular pick up hour for Bluecars.\n",
    "\n",
    "bluecar_pickup = list(PopularInApril(\"Bluecar Counter\").index)[0]\n",
    "bluecar_pickup"
   ]
  },
  {
   "cell_type": "markdown",
   "metadata": {},
   "source": [
    "The most popular picking hour for the Bluecar was 22:00 PM."
   ]
  },
  {
   "cell_type": "markdown",
   "metadata": {},
   "source": [
    "##### Utilib"
   ]
  },
  {
   "cell_type": "code",
   "execution_count": 292,
   "metadata": {},
   "outputs": [
    {
     "data": {
      "text/plain": [
       "9"
      ]
     },
     "execution_count": 292,
     "metadata": {},
     "output_type": "execute_result"
    }
   ],
   "source": [
    "# Popular pickup hour for Utilib cars.\n",
    "\n",
    "utilib_pickup = list(PopularInApril(\"Utilib Counter\").index)[0]\n",
    "utilib_pickup"
   ]
  },
  {
   "cell_type": "markdown",
   "metadata": {},
   "source": [
    "The most popular picking hour for the Utlilib car was 9:00 AM."
   ]
  },
  {
   "cell_type": "markdown",
   "metadata": {},
   "source": [
    "##### Utilib 1.4"
   ]
  },
  {
   "cell_type": "code",
   "execution_count": 293,
   "metadata": {},
   "outputs": [
    {
     "data": {
      "text/plain": [
       "11"
      ]
     },
     "execution_count": 293,
     "metadata": {},
     "output_type": "execute_result"
    }
   ],
   "source": [
    "# Popular pickup hour for Utilib 1.4 cars.\n",
    "\n",
    "utilib14_pickup = list(PopularInApril(\"Utilib 1.4 Counter\").index)[0]\n",
    "utilib14_pickup"
   ]
  },
  {
   "cell_type": "markdown",
   "metadata": {},
   "source": [
    "The most popular picking hour for the Utilib 1.4 car was 11:00 AM."
   ]
  },
  {
   "cell_type": "markdown",
   "metadata": {},
   "source": [
    "### 2. What is the most popular hour for returning cars?"
   ]
  },
  {
   "cell_type": "code",
   "execution_count": 294,
   "metadata": {},
   "outputs": [],
   "source": [
    "# Function that takes in the required columns and returns the most popular hour for returning cars.\n",
    "\n",
    "def PopularReturnHour(column):\n",
    "    # Restricting analysis to Paris, in the month of April 2018.\n",
    "    popular_hour = ElectricCar[(ElectricCar['City'] == 'Paris') & (ElectricCar['Month'] == 4) &\n",
    "    # Grouping by the hour in descending order, to obtain the total number of Bluecars present at stations, per hour.\n",
    "    (ElectricCar['Year'] == 2018)][['Hour', column]].groupby('Hour').sum().sort_values('Hour')\n",
    "    # Obtaining the difference between the number of cars at stations for seccessive hours.\n",
    "    popular_hour['Difference'] = popular_hour[column].diff()\n",
    "    # The first difference will be null, therefore it will be filled with a zero.\n",
    "    popular_hour.fillna(0, inplace= True)\n",
    "    # The maximum difference corresponds to the highest number of car returns.\n",
    "    return popular_hour[popular_hour['Difference'] == popular_hour['Difference'].max()]"
   ]
  },
  {
   "cell_type": "markdown",
   "metadata": {},
   "source": [
    "##### Bluecar"
   ]
  },
  {
   "cell_type": "code",
   "execution_count": 295,
   "metadata": {},
   "outputs": [
    {
     "data": {
      "text/plain": [
       "21"
      ]
     },
     "execution_count": 295,
     "metadata": {},
     "output_type": "execute_result"
    }
   ],
   "source": [
    "# Popular hour for returning Bluecars.\n",
    "\n",
    "bluecar_return = list(PopularReturnHour(\"Bluecar Counter\").index)[0]\n",
    "bluecar_return"
   ]
  },
  {
   "cell_type": "markdown",
   "metadata": {},
   "source": [
    "The most popular return hour for the Bluecar was 21:00 PM."
   ]
  },
  {
   "cell_type": "markdown",
   "metadata": {},
   "source": [
    "##### Utilib"
   ]
  },
  {
   "cell_type": "code",
   "execution_count": 296,
   "metadata": {},
   "outputs": [
    {
     "data": {
      "text/plain": [
       "6"
      ]
     },
     "execution_count": 296,
     "metadata": {},
     "output_type": "execute_result"
    }
   ],
   "source": [
    "# Popular hour for returning Utilib cars.\n",
    "\n",
    "utilib_return = list(PopularReturnHour(\"Utilib Counter\").index)[0]\n",
    "utilib_return"
   ]
  },
  {
   "cell_type": "markdown",
   "metadata": {},
   "source": [
    "The most popular return hour for the Utilib car was 6:00 AM."
   ]
  },
  {
   "cell_type": "markdown",
   "metadata": {},
   "source": [
    "##### Utilib 1.4"
   ]
  },
  {
   "cell_type": "code",
   "execution_count": 297,
   "metadata": {},
   "outputs": [
    {
     "data": {
      "text/plain": [
       "21"
      ]
     },
     "execution_count": 297,
     "metadata": {},
     "output_type": "execute_result"
    }
   ],
   "source": [
    "# Popular hour for returning Utilib 1.4 cars.\n",
    "\n",
    "utilib14_return = list(PopularReturnHour(\"Utilib 1.4 Counter\").index)[0]\n",
    "utilib14_return"
   ]
  },
  {
   "cell_type": "markdown",
   "metadata": {},
   "source": [
    "The most popular return hour for the Utilib 1.4 car was 21:00 PM."
   ]
  },
  {
   "cell_type": "markdown",
   "metadata": {},
   "source": [
    "### 3. What station is the most popular?"
   ]
  },
  {
   "cell_type": "markdown",
   "metadata": {},
   "source": [
    "#### a) Overall?\n"
   ]
  },
  {
   "cell_type": "code",
   "execution_count": 298,
   "metadata": {},
   "outputs": [],
   "source": [
    "# Function that determines the most popular station.\n",
    "# It is assumed that the station with the highest number of cars is the most popular.\n",
    "\n",
    "def OverallPopularStation(column):\n",
    "    # Restricting the analysis to the city of Paris, in the month of April 2018.\n",
    "    popular_station_overall = ElectricCar[(ElectricCar['City'] == 'Paris') & (ElectricCar['Month'] == 4) &\n",
    "    # Grouping by Id to get the total number of cars at various stations.\n",
    "    (ElectricCar['Year'] == 2018)][['Id',column]].groupby('Id').sum()\n",
    "    # Obtaining the station with the largest number of cars.\n",
    "    return popular_station_overall[popular_station_overall[column] == popular_station_overall[column].max()]"
   ]
  },
  {
   "cell_type": "markdown",
   "metadata": {},
   "source": [
    "##### Bluecar"
   ]
  },
  {
   "cell_type": "code",
   "execution_count": 299,
   "metadata": {},
   "outputs": [
    {
     "data": {
      "text/plain": [
       "['paris-philippeauguste-126']"
      ]
     },
     "execution_count": 299,
     "metadata": {},
     "output_type": "execute_result"
    }
   ],
   "source": [
    "# Most popular station for Bluecars.\n",
    "\n",
    "popular_station_bluecar = list(OverallPopularStation(\"Bluecar Counter\").index)\n",
    "popular_station_bluecar"
   ]
  },
  {
   "cell_type": "markdown",
   "metadata": {},
   "source": [
    "The most popular station for Bluecars, overall, had an Id of paris-philippeauguste-126."
   ]
  },
  {
   "cell_type": "markdown",
   "metadata": {},
   "source": [
    "##### Utilib"
   ]
  },
  {
   "cell_type": "code",
   "execution_count": 300,
   "metadata": {},
   "outputs": [
    {
     "data": {
      "text/plain": [
       "['paris-macmahon-5', 'paris-portedemontrouge-8']"
      ]
     },
     "execution_count": 300,
     "metadata": {},
     "output_type": "execute_result"
    }
   ],
   "source": [
    "# Most popular station for Utilib cars.\n",
    "\n",
    "popular_station_utilib = list(OverallPopularStation(\"Utilib Counter\").index)\n",
    "popular_station_utilib"
   ]
  },
  {
   "cell_type": "markdown",
   "metadata": {},
   "source": [
    "The most popular station for Utilib cars, overall, had Id's of paris-macmahon-5 and paris-portedemontrouge-8."
   ]
  },
  {
   "cell_type": "markdown",
   "metadata": {},
   "source": [
    "##### Utilib 1.4"
   ]
  },
  {
   "cell_type": "code",
   "execution_count": 301,
   "metadata": {},
   "outputs": [
    {
     "data": {
      "text/plain": [
       "['paris-portedemontrouge-8']"
      ]
     },
     "execution_count": 301,
     "metadata": {},
     "output_type": "execute_result"
    }
   ],
   "source": [
    "# Most popular station for Utilib 1.4.\n",
    "\n",
    "popular_station_utilib14 = list(OverallPopularStation(\"Utilib 1.4 Counter\").index)\n",
    "popular_station_utilib14"
   ]
  },
  {
   "cell_type": "markdown",
   "metadata": {},
   "source": [
    "The most popular station for Utilib 1.4 cars, overall, had an Id of paris-portedemontrouge-8."
   ]
  },
  {
   "cell_type": "markdown",
   "metadata": {},
   "source": [
    "#### b) At the most popular picking hour?"
   ]
  },
  {
   "cell_type": "code",
   "execution_count": 302,
   "metadata": {},
   "outputs": [],
   "source": [
    "# Funtion that determines the most popular station at the most popular picking hour, for each respective car.\n",
    "def PopularStationHour(column,hour):\n",
    "    # Restricting the analysis to the city of Paris, in the month of April 2018.\n",
    "    pop_station_pop_hour = ElectricCar[(ElectricCar['City'] == 'Paris') & (ElectricCar['Month'] == 4) &\n",
    "    # Selecting the most popular hour for picking up cars and grouping by Id to get the total number of cars at various stations.\n",
    "    (ElectricCar['Year'] == 2018) & (ElectricCar['Hour'] == hour)][['Id',column]].groupby('Id').sum()\n",
    "    # Returning the most populat station at the most popular hour.\n",
    "    return pop_station_pop_hour[pop_station_pop_hour[column] == pop_station_pop_hour[column].max()]"
   ]
  },
  {
   "cell_type": "markdown",
   "metadata": {},
   "source": [
    "##### Bluecar"
   ]
  },
  {
   "cell_type": "code",
   "execution_count": 303,
   "metadata": {},
   "outputs": [
    {
     "data": {
      "text/plain": [
       "['paris-ravignan-1']"
      ]
     },
     "execution_count": 303,
     "metadata": {},
     "output_type": "execute_result"
    }
   ],
   "source": [
    "# Most popular station for Bluecars at the most popular pick up hour.\n",
    "\n",
    "bluecar_popular_station_hour = list(PopularStationHour(\"Bluecar Counter\", bluecar_pickup).index)\n",
    "bluecar_popular_station_hour "
   ]
  },
  {
   "cell_type": "markdown",
   "metadata": {},
   "source": [
    "Most popular station for Bluecars at the most popular pick up hour had an Id of paris-ravignan-1."
   ]
  },
  {
   "cell_type": "markdown",
   "metadata": {},
   "source": [
    "##### Utilib"
   ]
  },
  {
   "cell_type": "code",
   "execution_count": 304,
   "metadata": {},
   "outputs": [
    {
     "data": {
      "text/plain": [
       "['paris-fredericloliee-5',\n",
       " 'paris-macmahon-5',\n",
       " 'paris-marcadet-150',\n",
       " 'paris-picpus-7',\n",
       " 'paris-victoria-17']"
      ]
     },
     "execution_count": 304,
     "metadata": {},
     "output_type": "execute_result"
    }
   ],
   "source": [
    "# Most popular station for Utilib cars at the most popular pick up hour.\n",
    "\n",
    "utilib_popular_station_hour = list(PopularStationHour(\"Utilib Counter\", utilib_pickup).index)\n",
    "utilib_popular_station_hour "
   ]
  },
  {
   "cell_type": "markdown",
   "metadata": {},
   "source": [
    "Most popular station for Utilib cars at the most popular pick up hour had Ids of paris-fredericloliee-5, paris-macmahon-5, paris-marcadet-150, paris-picpus-7, and \n",
    "paris-victoria-17."
   ]
  },
  {
   "cell_type": "markdown",
   "metadata": {},
   "source": [
    "##### Utilib 1.4"
   ]
  },
  {
   "cell_type": "code",
   "execution_count": 305,
   "metadata": {},
   "outputs": [
    {
     "data": {
      "text/plain": [
       "['paris-berthier-97',\n",
       " 'paris-federation-10',\n",
       " 'paris-malesherbes-7',\n",
       " 'paris-mathis-35',\n",
       " 'paris-monge-58',\n",
       " 'paris-parmentier-2',\n",
       " 'paris-tolbiac-145',\n",
       " 'paris-tolbiac-15',\n",
       " 'paris-tolbiac-41',\n",
       " 'paris-vaugirard-20']"
      ]
     },
     "execution_count": 305,
     "metadata": {},
     "output_type": "execute_result"
    }
   ],
   "source": [
    "# Most popular station for Utilib 1.4 cars at the most popular pick up hour.\n",
    "\n",
    "utilib14_popular_station_hour = list(PopularStationHour(\"Utilib 1.4 Counter\", utilib14_pickup).index)\n",
    "utilib14_popular_station_hour "
   ]
  },
  {
   "cell_type": "markdown",
   "metadata": {},
   "source": [
    "Most popular station for Utilib 1.4 cars at the most popular pick up hour had Ids of paris-berthier-97, paris-federation-10, paris-malesherbes-7, paris-mathis-35,  paris-monge-58, paris-parmentier-2, paris-tolbiac-145, paris-tolbiac-15, paris-tolbiac-41, and paris-vaugirard-20."
   ]
  },
  {
   "cell_type": "markdown",
   "metadata": {},
   "source": [
    "### 4. What postal code is the most popular postal code for picking up cars? Does the most popular station belong to that postal code?"
   ]
  },
  {
   "cell_type": "markdown",
   "metadata": {},
   "source": [
    "#### a) Overall?"
   ]
  },
  {
   "cell_type": "code",
   "execution_count": 306,
   "metadata": {},
   "outputs": [],
   "source": [
    "# Function used to obtain the most popular code. \n",
    "# It is assumed that the most popula postal code has the highest number of cars.\n",
    "\n",
    "def OverallPopularPostalCode(column):\n",
    "    # Restricting the analysis to the city of Paris, in the month of April 2018.\n",
    "    popular_postal = ElectricCar[(ElectricCar['City'] == 'Paris') & (ElectricCar['Month'] == 4) &\n",
    "    # Grouping by Postal code to get the total number of cars at various postal codes.\n",
    "    (ElectricCar['Year'] == 2018)][['Postal Code',column]].groupby('Postal Code').sum()\n",
    "    # Returning the most popular postal codes for various car types.\n",
    "    return popular_postal[popular_postal[column] == popular_postal[column].max()]\n",
    "    "
   ]
  },
  {
   "cell_type": "code",
   "execution_count": 307,
   "metadata": {},
   "outputs": [],
   "source": [
    "# Function to determine if the most popular station is in the most popular postal code.\n",
    "\n",
    "def StationInPostalCode(station, code):\n",
    "    present = []\n",
    "    for codeelement in code:\n",
    "        ids = list(ElectricCar[(ElectricCar['Postal Code'] == codeelement)]['Id'])\n",
    "        for stationelement in station:\n",
    "            if stationelement in ids:\n",
    "                location = str(codeelement) + ' ' + stationelement\n",
    "                present.append(location)\n",
    "    return present\n",
    "\n"
   ]
  },
  {
   "cell_type": "markdown",
   "metadata": {},
   "source": [
    "##### Bluecar"
   ]
  },
  {
   "cell_type": "code",
   "execution_count": 308,
   "metadata": {},
   "outputs": [
    {
     "data": {
      "text/plain": [
       "[75015]"
      ]
     },
     "execution_count": 308,
     "metadata": {},
     "output_type": "execute_result"
    }
   ],
   "source": [
    "# Determining the most popular Bluecar postal code.\n",
    "\n",
    "bluecar_popular_postal_code = list(OverallPopularPostalCode(\"Bluecar Counter\").index)\n",
    "bluecar_popular_postal_code"
   ]
  },
  {
   "cell_type": "code",
   "execution_count": 309,
   "metadata": {},
   "outputs": [
    {
     "data": {
      "text/plain": [
       "[]"
      ]
     },
     "execution_count": 309,
     "metadata": {},
     "output_type": "execute_result"
    }
   ],
   "source": [
    "# Checking if the most popular station(s) is in the most popular postal code.\n",
    "\n",
    "StationInPostalCode(popular_station_bluecar, bluecar_popular_postal_code)"
   ]
  },
  {
   "cell_type": "markdown",
   "metadata": {},
   "source": [
    "The most popular Bluecar postal code was 75015, the most popular station was not in this postal code."
   ]
  },
  {
   "cell_type": "markdown",
   "metadata": {},
   "source": [
    "##### Utilib"
   ]
  },
  {
   "cell_type": "code",
   "execution_count": 310,
   "metadata": {},
   "outputs": [
    {
     "data": {
      "text/plain": [
       "[75015, 75016, 75017]"
      ]
     },
     "execution_count": 310,
     "metadata": {},
     "output_type": "execute_result"
    }
   ],
   "source": [
    "# Determining the most popular Utilib car postal code.\n",
    "\n",
    "utilib_popular_postal_code = list(OverallPopularPostalCode(\"Utilib Counter\").index)\n",
    "utilib_popular_postal_code"
   ]
  },
  {
   "cell_type": "code",
   "execution_count": 311,
   "metadata": {},
   "outputs": [
    {
     "data": {
      "text/plain": [
       "['75017 paris-macmahon-5']"
      ]
     },
     "execution_count": 311,
     "metadata": {},
     "output_type": "execute_result"
    }
   ],
   "source": [
    "# Checking if the most popular station(s) is in the most popular postal code.\n",
    "\n",
    "StationInPostalCode(popular_station_utilib, utilib_popular_postal_code)\n"
   ]
  },
  {
   "cell_type": "markdown",
   "metadata": {},
   "source": [
    "The most popular Utilib car postal codes were 75015, 75016, 75017, only 75017 has one of the most popular utilib stations, which was paris-macmahon-5."
   ]
  },
  {
   "cell_type": "markdown",
   "metadata": {},
   "source": [
    "##### Utilib 1.4"
   ]
  },
  {
   "cell_type": "code",
   "execution_count": 312,
   "metadata": {},
   "outputs": [
    {
     "data": {
      "text/plain": [
       "[75017]"
      ]
     },
     "execution_count": 312,
     "metadata": {},
     "output_type": "execute_result"
    }
   ],
   "source": [
    "# Determining the most popular Utilib 1.4 car postal code.\n",
    "\n",
    "utilib14_popular_postal_code = list(OverallPopularPostalCode(\"Utilib 1.4 Counter\").index)\n",
    "utilib14_popular_postal_code"
   ]
  },
  {
   "cell_type": "code",
   "execution_count": 313,
   "metadata": {},
   "outputs": [
    {
     "data": {
      "text/plain": [
       "[]"
      ]
     },
     "execution_count": 313,
     "metadata": {},
     "output_type": "execute_result"
    }
   ],
   "source": [
    "# Checking if the most popular station(s) is in the most popular postal code.\n",
    "\n",
    "StationInPostalCode(popular_station_utilib14, utilib14_popular_postal_code)"
   ]
  },
  {
   "cell_type": "markdown",
   "metadata": {},
   "source": [
    "The most popular Utilib 1.4 car postal code was  75017, it did not have the popular stations."
   ]
  },
  {
   "cell_type": "markdown",
   "metadata": {},
   "source": [
    "#### b) At the most popular picking hour?"
   ]
  },
  {
   "cell_type": "code",
   "execution_count": 314,
   "metadata": {},
   "outputs": [],
   "source": [
    "# Function used to determine the most popular postal code at the most popular picking hour.\n",
    "def PopularPostalCodeAtPickingHour(column, hour):\n",
    "    # Restricting the analysis to the city of Paris, in the month of April 2018.\n",
    "    popular_postal = ElectricCar[(ElectricCar['City'] == 'Paris') & (ElectricCar['Month'] == 4) &\n",
    "    # Grouping by Postal code to get the total number of cars at various postal codes.\n",
    "    (ElectricCar['Year'] == 2018) & (ElectricCar['Hour'] == hour)][['Postal Code',column]].groupby('Postal Code').sum()\n",
    "    # Returning the most popular postal codes for various car types at the most popular picking hour.\n",
    "    return popular_postal[popular_postal[column] == popular_postal[column].max()]"
   ]
  },
  {
   "cell_type": "code",
   "execution_count": 315,
   "metadata": {},
   "outputs": [],
   "source": [
    "# popular_hour = ElectricCar[(ElectricCar['Hour'] == 22)][['Postal Code', 'Bluecar Counter']].groupby('Postal Code').sum()\n",
    "# popular_hour['Difference'] = popular_hour['Bluecar Counter'].diff()\n",
    "# popular_hour.fillna(0, inplace= True)\n",
    "# popular_hour.sort_values('Difference').head(1)"
   ]
  },
  {
   "cell_type": "markdown",
   "metadata": {},
   "source": [
    "##### Bluecar"
   ]
  },
  {
   "cell_type": "code",
   "execution_count": 316,
   "metadata": {},
   "outputs": [
    {
     "data": {
      "text/plain": [
       "[75016]"
      ]
     },
     "execution_count": 316,
     "metadata": {},
     "output_type": "execute_result"
    }
   ],
   "source": [
    "# Most popular postal code for Bluecars at their most popular pick-up time.\n",
    "\n",
    "bluecar_popular_post_code_at_picking_hour = list(PopularPostalCodeAtPickingHour(\"Bluecar Counter\", bluecar_pickup).index)\n",
    "bluecar_popular_post_code_at_picking_hour"
   ]
  },
  {
   "cell_type": "code",
   "execution_count": 317,
   "metadata": {},
   "outputs": [
    {
     "data": {
      "text/plain": [
       "[]"
      ]
     },
     "execution_count": 317,
     "metadata": {},
     "output_type": "execute_result"
    }
   ],
   "source": [
    "# Checking if the most popular station(s) is in this popular postal code.\n",
    "\n",
    "StationInPostalCode(popular_station_bluecar, bluecar_popular_post_code_at_picking_hour)"
   ]
  },
  {
   "cell_type": "markdown",
   "metadata": {},
   "source": [
    "Most popular postal code for Bluecars at their most popular pick-up time was 75016, the most popular station was not found in this postal code."
   ]
  },
  {
   "cell_type": "markdown",
   "metadata": {},
   "source": [
    "##### Utilib"
   ]
  },
  {
   "cell_type": "code",
   "execution_count": 318,
   "metadata": {},
   "outputs": [
    {
     "data": {
      "text/plain": [
       "[75001, 75012, 75017, 75018, 75020]"
      ]
     },
     "execution_count": 318,
     "metadata": {},
     "output_type": "execute_result"
    }
   ],
   "source": [
    "# Most popular postal code for Utilib cars at their most popular pick-up time.\n",
    "\n",
    "utilib_popular_post_code_at_picking_hour = list(PopularPostalCodeAtPickingHour(\"Utilib Counter\", utilib_pickup).index)\n",
    "utilib_popular_post_code_at_picking_hour"
   ]
  },
  {
   "cell_type": "code",
   "execution_count": 319,
   "metadata": {},
   "outputs": [
    {
     "data": {
      "text/plain": [
       "['75017 paris-macmahon-5']"
      ]
     },
     "execution_count": 319,
     "metadata": {},
     "output_type": "execute_result"
    }
   ],
   "source": [
    "# Checking if the most popular station(s) is in this popular postal code.\n",
    "\n",
    "StationInPostalCode(popular_station_utilib, utilib_popular_post_code_at_picking_hour)"
   ]
  },
  {
   "cell_type": "markdown",
   "metadata": {},
   "source": [
    "Most popular postal codes for Utilib cars at their most popular pick-up time were 75001, 75012, 75017, 75018, 75020, only 75017 had one of the most popular stations, which was paris-macmahon-5."
   ]
  },
  {
   "cell_type": "markdown",
   "metadata": {},
   "source": [
    "##### Utilib 1.4"
   ]
  },
  {
   "cell_type": "code",
   "execution_count": 320,
   "metadata": {},
   "outputs": [
    {
     "data": {
      "text/plain": [
       "[75013]"
      ]
     },
     "execution_count": 320,
     "metadata": {},
     "output_type": "execute_result"
    }
   ],
   "source": [
    "# Most popular postal code for Utilib 1.4 cars at their most popular pick-up time.\n",
    "\n",
    "utilib14_popular_post_code_at_picking_hour = list(PopularPostalCodeAtPickingHour(\"Utilib 1.4 Counter\", utilib14_pickup).index)\n",
    "utilib14_popular_post_code_at_picking_hour"
   ]
  },
  {
   "cell_type": "code",
   "execution_count": 321,
   "metadata": {},
   "outputs": [
    {
     "data": {
      "text/plain": [
       "[]"
      ]
     },
     "execution_count": 321,
     "metadata": {},
     "output_type": "execute_result"
    }
   ],
   "source": [
    "# Checking if the most popular station(s) is in this popular postal code.\n",
    "\n",
    "StationInPostalCode(popular_station_utilib14, utilib14_popular_post_code_at_picking_hour)"
   ]
  },
  {
   "cell_type": "markdown",
   "metadata": {},
   "source": [
    "Most popular postal code for Utilib 1.4 cars at their most popular pick-up time was 75013, the most popular station was not found in this postal code."
   ]
  }
 ],
 "metadata": {
  "interpreter": {
   "hash": "1e915f0a29dc84041eaeb02b7b1a21c440e37a87b61d44d5e84a515737dc82bc"
  },
  "kernelspec": {
   "display_name": "Python 3.8.3 ('base')",
   "language": "python",
   "name": "python3"
  },
  "language_info": {
   "codemirror_mode": {
    "name": "ipython",
    "version": 3
   },
   "file_extension": ".py",
   "mimetype": "text/x-python",
   "name": "python",
   "nbconvert_exporter": "python",
   "pygments_lexer": "ipython3",
   "version": "3.8.3"
  },
  "orig_nbformat": 4
 },
 "nbformat": 4,
 "nbformat_minor": 2
}
